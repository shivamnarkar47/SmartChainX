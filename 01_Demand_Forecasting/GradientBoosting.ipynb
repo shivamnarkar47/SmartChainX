{
 "cells": [
  {
   "cell_type": "code",
   "execution_count": 1,
   "id": "f6b7d1d6-4e57-487b-a7e8-885ee0b30d57",
   "metadata": {},
   "outputs": [],
   "source": [
    "# 📦 Imports\n",
    "import pandas as pd\n",
    "import numpy as np\n",
    "import matplotlib.pyplot as plt\n",
    "from sklearn.ensemble import GradientBoostingRegressor\n",
    "from sklearn.metrics import mean_squared_error\n",
    "import warnings\n",
    "warnings.filterwarnings(\"ignore\")"
   ]
  },
  {
   "cell_type": "code",
   "execution_count": 2,
   "id": "4232db3a-1a2d-4bd7-b1d1-f581bec9989a",
   "metadata": {},
   "outputs": [],
   "source": [
    "# 📂 Load Data\n",
    "df = pd.read_csv(\"./demand-forecasting-kernels-only/train.csv\")\n",
    "df['date'] = pd.to_datetime(df['date'])\n",
    "df = df.sort_values(['store', 'item', 'date'])\n",
    "df.set_index('date', inplace=True)"
   ]
  },
  {
   "cell_type": "code",
   "execution_count": 3,
   "id": "10ab584b-a145-4e4e-8ce3-b5ef6dff1692",
   "metadata": {},
   "outputs": [],
   "source": [
    "# 📊 Feature Engineering\n",
    "def add_features(data):\n",
    "    data['day'] = data.index.day\n",
    "    data['month'] = data.index.month\n",
    "    data['dayofweek'] = data.index.dayofweek\n",
    "    for lag in [1, 7, 14]:\n",
    "        data[f'sales_lag_{lag}'] = data['sales'].shift(lag)\n",
    "    return data\n"
   ]
  },
  {
   "cell_type": "code",
   "execution_count": 4,
   "id": "fc1e52f7-99fd-44b9-9d93-eff05f72a47f",
   "metadata": {},
   "outputs": [],
   "source": [
    "results = []\n",
    "\n",
    "store_list = df['store'].unique()\n",
    "item_list = df['item'].unique()\n"
   ]
  },
  {
   "cell_type": "code",
   "execution_count": 5,
   "id": "51d07047-ea38-40ba-a943-984d8556b379",
   "metadata": {},
   "outputs": [],
   "source": [
    "for store in store_list:\n",
    "    for item in item_list:\n",
    "        df_filtered = df[(df['store'] == store) & (df['item'] == item)].copy()\n",
    "        df_filtered = add_features(df_filtered)\n",
    "        df_filtered.dropna(inplace=True)\n",
    "\n",
    "        if len(df_filtered) < 60:\n",
    "            continue  # skip short series\n",
    "\n",
    "        # Split\n",
    "        train = df_filtered.iloc[:-30]\n",
    "        test = df_filtered.iloc[-30:]\n",
    "\n",
    "        X_train = train.drop(['sales', 'store', 'item'], axis=1)\n",
    "        y_train = train['sales']\n",
    "        X_test = test.drop(['sales', 'store', 'item'], axis=1)\n",
    "        y_test = test['sales']\n",
    "\n",
    "        # Model\n",
    "        model = GradientBoostingRegressor(n_estimators=200, learning_rate=0.1, max_depth=4, random_state=42)\n",
    "        model.fit(X_train, y_train)\n",
    "        preds = model.predict(X_test)\n",
    "\n",
    "        test = test.copy()\n",
    "        test['predicted_sales'] = preds\n",
    "        test['store'] = store\n",
    "        test['item'] = item\n",
    "        results.append(test[['store', 'item', 'sales', 'predicted_sales']])"
   ]
  },
  {
   "cell_type": "code",
   "execution_count": 6,
   "id": "25224c7a-cf44-4d6a-b2c6-cfe9595cb1a5",
   "metadata": {},
   "outputs": [
    {
     "data": {
      "text/html": [
       "<div>\n",
       "<style scoped>\n",
       "    .dataframe tbody tr th:only-of-type {\n",
       "        vertical-align: middle;\n",
       "    }\n",
       "\n",
       "    .dataframe tbody tr th {\n",
       "        vertical-align: top;\n",
       "    }\n",
       "\n",
       "    .dataframe thead th {\n",
       "        text-align: right;\n",
       "    }\n",
       "</style>\n",
       "<table border=\"1\" class=\"dataframe\">\n",
       "  <thead>\n",
       "    <tr style=\"text-align: right;\">\n",
       "      <th></th>\n",
       "      <th>store</th>\n",
       "      <th>item</th>\n",
       "      <th>sales</th>\n",
       "      <th>predicted_sales</th>\n",
       "    </tr>\n",
       "    <tr>\n",
       "      <th>date</th>\n",
       "      <th></th>\n",
       "      <th></th>\n",
       "      <th></th>\n",
       "      <th></th>\n",
       "    </tr>\n",
       "  </thead>\n",
       "  <tbody>\n",
       "    <tr>\n",
       "      <th>2017-12-02</th>\n",
       "      <td>1</td>\n",
       "      <td>1</td>\n",
       "      <td>16</td>\n",
       "      <td>17.797357</td>\n",
       "    </tr>\n",
       "    <tr>\n",
       "      <th>2017-12-03</th>\n",
       "      <td>1</td>\n",
       "      <td>1</td>\n",
       "      <td>31</td>\n",
       "      <td>16.437855</td>\n",
       "    </tr>\n",
       "    <tr>\n",
       "      <th>2017-12-04</th>\n",
       "      <td>1</td>\n",
       "      <td>1</td>\n",
       "      <td>7</td>\n",
       "      <td>10.524672</td>\n",
       "    </tr>\n",
       "    <tr>\n",
       "      <th>2017-12-05</th>\n",
       "      <td>1</td>\n",
       "      <td>1</td>\n",
       "      <td>20</td>\n",
       "      <td>11.522503</td>\n",
       "    </tr>\n",
       "    <tr>\n",
       "      <th>2017-12-06</th>\n",
       "      <td>1</td>\n",
       "      <td>1</td>\n",
       "      <td>17</td>\n",
       "      <td>14.824978</td>\n",
       "    </tr>\n",
       "  </tbody>\n",
       "</table>\n",
       "</div>"
      ],
      "text/plain": [
       "            store  item  sales  predicted_sales\n",
       "date                                           \n",
       "2017-12-02      1     1     16        17.797357\n",
       "2017-12-03      1     1     31        16.437855\n",
       "2017-12-04      1     1      7        10.524672\n",
       "2017-12-05      1     1     20        11.522503\n",
       "2017-12-06      1     1     17        14.824978"
      ]
     },
     "execution_count": 6,
     "metadata": {},
     "output_type": "execute_result"
    }
   ],
   "source": [
    "# 🔁 Loop Through Store-Item Combos\n",
    "\n",
    "\n",
    "\n",
    "# 📈 Combine & Save\n",
    "forecast_df = pd.concat(results)\n",
    "forecast_df.to_csv(\"forecast_gb_all.csv\")\n",
    "forecast_df.head()\n"
   ]
  },
  {
   "cell_type": "code",
   "execution_count": 7,
   "id": "79a2d1a5-efe4-4225-bb1a-ebcfa9f4bfe8",
   "metadata": {},
   "outputs": [],
   "source": [
    "from sklearn.metrics import mean_squared_error, mean_absolute_error, r2_score\n"
   ]
  },
  {
   "cell_type": "code",
   "execution_count": 8,
   "id": "0c29f035-643d-4fa6-88c6-c6b5a644f1fa",
   "metadata": {},
   "outputs": [],
   "source": [
    "rmse = np.sqrt(mean_squared_error(y_test, preds))\n",
    "mae = mean_absolute_error(y_test, preds)\n",
    "r2 = r2_score(y_test, preds)\n"
   ]
  },
  {
   "cell_type": "code",
   "execution_count": 9,
   "id": "a8c98023-1e60-44bb-ae26-7d7607d59898",
   "metadata": {},
   "outputs": [
    {
     "data": {
      "text/plain": [
       "np.float64(10.509850658674235)"
      ]
     },
     "execution_count": 9,
     "metadata": {},
     "output_type": "execute_result"
    }
   ],
   "source": [
    "rmse"
   ]
  },
  {
   "cell_type": "code",
   "execution_count": 10,
   "id": "3f366ece-a44e-4a52-9965-2c9e2b8f7ef4",
   "metadata": {},
   "outputs": [
    {
     "data": {
      "text/plain": [
       "8.8235891544386"
      ]
     },
     "execution_count": 10,
     "metadata": {},
     "output_type": "execute_result"
    }
   ],
   "source": [
    "mae"
   ]
  },
  {
   "cell_type": "code",
   "execution_count": 11,
   "id": "103302f7-7afd-499b-99c0-171735d3ec16",
   "metadata": {},
   "outputs": [
    {
     "data": {
      "text/plain": [
       "-0.01679739775257727"
      ]
     },
     "execution_count": 11,
     "metadata": {},
     "output_type": "execute_result"
    }
   ],
   "source": [
    "r2"
   ]
  },
  {
   "cell_type": "code",
   "execution_count": 14,
   "id": "24b3d81c-1068-4987-8eef-f38594a0872a",
   "metadata": {},
   "outputs": [
    {
     "name": "stdout",
     "output_type": "stream",
     "text": [
      "📈 RMSE: 10.51\n",
      "📊 MAE: 8.82\n",
      "🧠 R² Score: -0.0168\n"
     ]
    }
   ],
   "source": [
    "print(f\"📈 RMSE: {rmse:.2f}\")\n",
    "print(f\"📊 MAE: {mae:.2f}\")\n",
    "print(f\"🧠 R² Score: {r2:.4f}\")"
   ]
  },
  {
   "cell_type": "code",
   "execution_count": null,
   "id": "689884e4-370b-4372-8798-9480efdb4c41",
   "metadata": {},
   "outputs": [],
   "source": []
  },
  {
   "cell_type": "code",
   "execution_count": null,
   "id": "5710cfa0-aaa3-4a18-a1be-da1cdd4d62ef",
   "metadata": {},
   "outputs": [],
   "source": []
  }
 ],
 "metadata": {
  "kernelspec": {
   "display_name": "Python 3 (ipykernel)",
   "language": "python",
   "name": "python3"
  },
  "language_info": {
   "codemirror_mode": {
    "name": "ipython",
    "version": 3
   },
   "file_extension": ".py",
   "mimetype": "text/x-python",
   "name": "python",
   "nbconvert_exporter": "python",
   "pygments_lexer": "ipython3",
   "version": "3.13.4"
  }
 },
 "nbformat": 4,
 "nbformat_minor": 5
}
