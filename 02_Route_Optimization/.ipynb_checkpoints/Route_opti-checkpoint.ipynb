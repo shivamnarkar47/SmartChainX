{
 "cells": [
  {
   "cell_type": "code",
   "execution_count": 2,
   "id": "bc784dbb-1def-4240-ab23-45f098f776aa",
   "metadata": {},
   "outputs": [],
   "source": [
    "import pandas as pd\n",
    "from math import radians, cos, sin, sqrt, atan2\n"
   ]
  },
  {
   "cell_type": "code",
   "execution_count": 3,
   "id": "a9d184b3-c5cc-4ea7-b027-9ec00fb465b1",
   "metadata": {},
   "outputs": [],
   "source": [
    "# Load data\n",
    "df = pd.read_csv(\"./locations.csv\")\n"
   ]
  },
  {
   "cell_type": "code",
   "execution_count": 4,
   "id": "a64b67f3-6e64-4afd-9807-e463cb8dbc63",
   "metadata": {},
   "outputs": [],
   "source": [
    "def haversine(lat1, lon1, lat2, lon2):\n",
    "    R = 6371.0\n",
    "    dlat = radians(lat2 - lat1)\n",
    "    dlon = radians(lon2 - lon1)\n",
    "    a = sin(dlat/2)**2 + cos(radians(lat1)) * cos(radians(lat2)) * sin(dlon/2)**2\n",
    "    c = 2 * atan2(sqrt(a), sqrt(1 - a))\n",
    "    return R * c  # km"
   ]
  },
  {
   "cell_type": "code",
   "execution_count": 5,
   "id": "aac42a97-9ada-427e-80ce-b1ac29920d84",
   "metadata": {},
   "outputs": [],
   "source": [
    "dist_matrix = []"
   ]
  },
  {
   "cell_type": "code",
   "execution_count": 6,
   "id": "1be34fb3-b95a-4c94-9fb1-4f2c5c4c5caa",
   "metadata": {},
   "outputs": [],
   "source": [
    "for i in range(len(df)):\n",
    "    row = []\n",
    "    for j in range(len(df)):\n",
    "        dist = haversine(df.iloc[i]['latitude'], df.iloc[i]['longitude'],\n",
    "                         df.iloc[j]['latitude'], df.iloc[j]['longitude'])\n",
    "        row.append(int(dist * 1000))  # meters\n",
    "    dist_matrix.append(row)"
   ]
  },
  {
   "cell_type": "code",
   "execution_count": 7,
   "id": "6c581f88-36fc-4431-81d9-32fe184d681a",
   "metadata": {},
   "outputs": [],
   "source": [
    "import networkx as nx\n"
   ]
  },
  {
   "cell_type": "code",
   "execution_count": 8,
   "id": "237239df-abe7-47b5-a300-1560c0738be2",
   "metadata": {},
   "outputs": [],
   "source": [
    "G = nx.complete_graph(len(df))\n"
   ]
  },
  {
   "cell_type": "code",
   "execution_count": 9,
   "id": "e2b27ae3-5e48-44de-80a4-e7717755e5be",
   "metadata": {},
   "outputs": [
    {
     "data": {
      "text/plain": [
       "<networkx.classes.graph.Graph at 0x7f549aedfe00>"
      ]
     },
     "execution_count": 9,
     "metadata": {},
     "output_type": "execute_result"
    }
   ],
   "source": [
    "G"
   ]
  },
  {
   "cell_type": "code",
   "execution_count": 10,
   "id": "23f45099-3ddb-4e33-a8c9-3934f7861b44",
   "metadata": {},
   "outputs": [],
   "source": [
    "for i in G.nodes():\n",
    "    for j in G.nodes():\n",
    "        if i != j:\n",
    "            dist = haversine(df.iloc[i]['latitude'], df.iloc[i]['longitude'],\n",
    "                             df.iloc[j]['latitude'], df.iloc[j]['longitude'])\n",
    "            G[i][j]['weight'] = dist\n"
   ]
  },
  {
   "cell_type": "code",
   "execution_count": 12,
   "id": "f16c3413-16ad-43e6-a986-b77b8140e16f",
   "metadata": {},
   "outputs": [],
   "source": [
    "from networkx.algorithms.approximation import traveling_salesman_problem\n",
    "route = traveling_salesman_problem(G, cycle=True)"
   ]
  },
  {
   "cell_type": "code",
   "execution_count": 13,
   "id": "041d1c0a-d70e-4e52-9755-ed06cfd21339",
   "metadata": {},
   "outputs": [
    {
     "name": "stdout",
     "output_type": "stream",
     "text": [
      "🛣️ Optimized Route (location IDs): [0, 2, 3, 1, 0]\n",
      "➡️ Route Names: ['Warehouse', 'Client B', 'Client C', 'Client A', 'Warehouse']\n"
     ]
    }
   ],
   "source": [
    "print(\"🛣️ Optimized Route (location IDs):\", route)\n",
    "print(\"➡️ Route Names:\", df.loc[route]['location_name'].tolist())"
   ]
  },
  {
   "cell_type": "code",
   "execution_count": null,
   "id": "5d43c6ba-bccb-4de0-ae67-c91a1e17a3a9",
   "metadata": {},
   "outputs": [],
   "source": []
  }
 ],
 "metadata": {
  "kernelspec": {
   "display_name": "Python 3 (ipykernel)",
   "language": "python",
   "name": "python3"
  },
  "language_info": {
   "codemirror_mode": {
    "name": "ipython",
    "version": 3
   },
   "file_extension": ".py",
   "mimetype": "text/x-python",
   "name": "python",
   "nbconvert_exporter": "python",
   "pygments_lexer": "ipython3",
   "version": "3.13.3"
  }
 },
 "nbformat": 4,
 "nbformat_minor": 5
}
