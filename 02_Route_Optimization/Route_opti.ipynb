{
 "cells": [
  {
   "cell_type": "code",
   "execution_count": 18,
   "id": "70085d71",
   "metadata": {},
   "outputs": [],
   "source": [
    "import pandas as pd\n",
    "from math import sin, cos, atan2,sqrt ,radians"
   ]
  },
  {
   "cell_type": "code",
   "execution_count": 19,
   "id": "a9d184b3-c5cc-4ea7-b027-9ec00fb465b1",
   "metadata": {},
   "outputs": [],
   "source": [
    "# Load data\n",
    "df = pd.read_csv(\"/home/vagabond/Documents/Goals/SmartChainX-Supply-Chain-Optimizer/02_Route_Optimization/locations.csv\")\n"
   ]
  },
  {
   "cell_type": "code",
   "execution_count": 20,
   "id": "a64b67f3-6e64-4afd-9807-e463cb8dbc63",
   "metadata": {},
   "outputs": [],
   "source": [
    "def haversine(lat1, lon1, lat2, lon2):\n",
    "    R = 6371.0\n",
    "    dlat = radians(lat2 - lat1)\n",
    "    dlon = radians(lon2 - lon1)\n",
    "    a = sin(dlat/2)**2 + cos(radians(lat1)) * cos(radians(lat2)) * sin(dlon/2)**2\n",
    "    c = 2 * atan2(sqrt(a), sqrt(1 - a))\n",
    "    return R * c  # km"
   ]
  },
  {
   "cell_type": "code",
   "execution_count": 21,
   "id": "aac42a97-9ada-427e-80ce-b1ac29920d84",
   "metadata": {},
   "outputs": [],
   "source": [
    "dist_matrix = []"
   ]
  },
  {
   "cell_type": "code",
   "execution_count": 22,
   "id": "1be34fb3-b95a-4c94-9fb1-4f2c5c4c5caa",
   "metadata": {},
   "outputs": [],
   "source": [
    "for i in range(len(df)):\n",
    "    row = []\n",
    "    for j in range(len(df)):\n",
    "        dist = haversine(df.iloc[i]['latitude'], df.iloc[i]['longitude'],\n",
    "                         df.iloc[j]['latitude'], df.iloc[j]['longitude'])\n",
    "        row.append(int(dist * 1000))  # meters\n",
    "    dist_matrix.append(row)"
   ]
  },
  {
   "cell_type": "code",
   "execution_count": 23,
   "id": "6c581f88-36fc-4431-81d9-32fe184d681a",
   "metadata": {},
   "outputs": [],
   "source": [
    "import networkx as nx\n"
   ]
  },
  {
   "cell_type": "code",
   "execution_count": 24,
   "id": "237239df-abe7-47b5-a300-1560c0738be2",
   "metadata": {},
   "outputs": [],
   "source": [
    "G = nx.complete_graph(len(df))\n"
   ]
  },
  {
   "cell_type": "code",
   "execution_count": 25,
   "id": "e2b27ae3-5e48-44de-80a4-e7717755e5be",
   "metadata": {},
   "outputs": [
    {
     "data": {
      "text/plain": [
       "<networkx.classes.graph.Graph at 0x7f47c7809490>"
      ]
     },
     "execution_count": 25,
     "metadata": {},
     "output_type": "execute_result"
    }
   ],
   "source": [
    "G"
   ]
  },
  {
   "cell_type": "code",
   "execution_count": 26,
   "id": "23f45099-3ddb-4e33-a8c9-3934f7861b44",
   "metadata": {},
   "outputs": [],
   "source": [
    "for i in G.nodes():\n",
    "    for j in G.nodes():\n",
    "        if i != j:\n",
    "            dist = haversine(df.iloc[i]['latitude'], df.iloc[i]['longitude'],\n",
    "                             df.iloc[j]['latitude'], df.iloc[j]['longitude'])\n",
    "            G[i][j]['weight'] = dist\n"
   ]
  },
  {
   "cell_type": "code",
   "execution_count": 27,
   "id": "f16c3413-16ad-43e6-a986-b77b8140e16f",
   "metadata": {},
   "outputs": [],
   "source": [
    "from networkx.algorithms.approximation import traveling_salesman_problem\n",
    "route = traveling_salesman_problem(G, cycle=True)"
   ]
  },
  {
   "cell_type": "code",
   "execution_count": 28,
   "id": "041d1c0a-d70e-4e52-9755-ed06cfd21339",
   "metadata": {},
   "outputs": [
    {
     "name": "stdout",
     "output_type": "stream",
     "text": [
      "🛣️ Optimized Route (location IDs): [0, 7, 2, 3, 1, 5, 6, 4, 0]\n",
      "➡️ Route Names: ['Warehouse (Andheri)', 'Chembur', 'Dadar', 'Colaba', 'Bandra', 'Goregaon', 'Mulund', 'Powai', 'Warehouse (Andheri)']\n"
     ]
    }
   ],
   "source": [
    "print(\"🛣️ Optimized Route (location IDs):\", route)\n",
    "print(\"➡️ Route Names:\", df.loc[route]['location_name'].tolist())"
   ]
  },
  {
   "cell_type": "code",
   "execution_count": 29,
   "id": "5d43c6ba-bccb-4de0-ae67-c91a1e17a3a9",
   "metadata": {},
   "outputs": [],
   "source": [
    "import folium"
   ]
  },
  {
   "cell_type": "code",
   "execution_count": 30,
   "id": "e9238511",
   "metadata": {},
   "outputs": [],
   "source": [
    "m = folium.Map(location=[19.07, 72.88], zoom_start=11)\n"
   ]
  },
  {
   "cell_type": "code",
   "execution_count": 31,
   "id": "b8f56400",
   "metadata": {},
   "outputs": [],
   "source": [
    "for i in route:\n",
    "    loc = df.iloc[i]\n",
    "    folium.Marker(\n",
    "        location=[loc['latitude'], loc['longitude']],\n",
    "        popup=loc['location_name'],\n",
    "        icon=folium.Icon(color='blue', icon='truck', prefix='fa')\n",
    "    ).add_to(m)"
   ]
  },
  {
   "cell_type": "code",
   "execution_count": 32,
   "id": "f13cffb9",
   "metadata": {},
   "outputs": [],
   "source": [
    "for i in range(len(route)-1):\n",
    "    loc1 = df.iloc[route[i]]\n",
    "    loc2 = df.iloc[route[i+1]]\n",
    "    folium.PolyLine(\n",
    "        locations=[\n",
    "            [loc1['latitude'], loc1['longitude']],\n",
    "            [loc2['latitude'], loc2['longitude']]\n",
    "        ],\n",
    "        color=\"green\",\n",
    "        weight=3,\n",
    "        opacity=0.8\n",
    "    ).add_to(m)\n"
   ]
  },
  {
   "cell_type": "code",
   "execution_count": 33,
   "id": "d89e9b07",
   "metadata": {},
   "outputs": [
    {
     "name": "stdout",
     "output_type": "stream",
     "text": [
      "✅ Map saved as: mumbai_optimized_route.html\n"
     ]
    }
   ],
   "source": [
    "m.save(\"mumbai_optimized_route.html\")\n",
    "print(\"✅ Map saved as: mumbai_optimized_route.html\")"
   ]
  },
  {
   "cell_type": "code",
   "execution_count": 34,
   "id": "618d2e91",
   "metadata": {},
   "outputs": [],
   "source": [
    "import streamlit as st"
   ]
  },
  {
   "cell_type": "code",
   "execution_count": 35,
   "id": "3cb5665e",
   "metadata": {},
   "outputs": [
    {
     "name": "stderr",
     "output_type": "stream",
     "text": [
      "2025-07-12 02:11:37.142 WARNING streamlit.runtime.scriptrunner_utils.script_run_context: Thread 'MainThread': missing ScriptRunContext! This warning can be ignored when running in bare mode.\n",
      "2025-07-12 02:11:37.144 WARNING streamlit.runtime.scriptrunner_utils.script_run_context: Thread 'MainThread': missing ScriptRunContext! This warning can be ignored when running in bare mode.\n",
      "2025-07-12 02:11:37.274 \n",
      "  \u001b[33m\u001b[1mWarning:\u001b[0m to view this Streamlit app on a browser, run it with the following\n",
      "  command:\n",
      "\n",
      "    streamlit run /nix/store/h3gsj70b725p1k6qpblm42xwzkn4cri2-python3-3.13.4-env/lib/python3.13/site-packages/ipykernel_launcher.py [ARGUMENTS]\n",
      "2025-07-12 02:11:37.275 Thread 'MainThread': missing ScriptRunContext! This warning can be ignored when running in bare mode.\n"
     ]
    },
    {
     "data": {
      "text/plain": [
       "DeltaGenerator()"
      ]
     },
     "execution_count": 35,
     "metadata": {},
     "output_type": "execute_result"
    }
   ],
   "source": [
    "st.set_page_config(page_title=\"🚛 Mumbai Route Optimizer\", layout=\"wide\")\n",
    "st.title(\"📍 SmartChainX – Mumbai Route Optimizer\")"
   ]
  },
  {
   "cell_type": "code",
   "execution_count": 36,
   "id": "a44290aa",
   "metadata": {},
   "outputs": [
    {
     "name": "stderr",
     "output_type": "stream",
     "text": [
      "2025-07-12 02:12:13.512 Thread 'MainThread': missing ScriptRunContext! This warning can be ignored when running in bare mode.\n",
      "2025-07-12 02:12:13.515 Thread 'MainThread': missing ScriptRunContext! This warning can be ignored when running in bare mode.\n",
      "2025-07-12 02:12:13.516 Thread 'MainThread': missing ScriptRunContext! This warning can be ignored when running in bare mode.\n",
      "2025-07-12 02:12:13.517 Thread 'MainThread': missing ScriptRunContext! This warning can be ignored when running in bare mode.\n",
      "2025-07-12 02:12:13.518 Thread 'MainThread': missing ScriptRunContext! This warning can be ignored when running in bare mode.\n"
     ]
    }
   ],
   "source": [
    "\n",
    "\n",
    "# Haversine distance function\n",
    "def haversine(lat1, lon1, lat2, lon2):\n",
    "    R = 6371.0\n",
    "    dlat = radians(lat2 - lat1)\n",
    "    dlon = radians(lon2 - lon1)\n",
    "    a = sin(dlat/2)**2 + cos(radians(lat1)) * cos(radians(lat2)) * sin(dlon/2)**2\n",
    "    c = 2 * atan2(sqrt(a), sqrt(1 - a))\n",
    "    return R * c\n",
    "\n",
    "# Upload location CSV\n",
    "uploaded_file = st.file_uploader(\"📤 Upload Mumbai Locations CSV\", type=[\"csv\"])\n",
    "if uploaded_file:\n",
    "    df = pd.read_csv(uploaded_file)\n",
    "    st.dataframe(df)\n",
    "\n",
    "    # Build Graph\n",
    "    G = nx.complete_graph(len(df))\n",
    "    for i in G.nodes():\n",
    "        for j in G.nodes():\n",
    "            if i != j:\n",
    "                dist = haversine(df.iloc[i]['latitude'], df.iloc[i]['longitude'],\n",
    "                                 df.iloc[j]['latitude'], df.iloc[j]['longitude'])\n",
    "                G[i][j]['weight'] = dist\n",
    "\n",
    "    # Solve TSP\n",
    "    route = traveling_salesman_problem(G, cycle=True, method='greedy')\n",
    "    route_names = df.loc[route]['location_name'].tolist()\n",
    "\n",
    "    st.subheader(\"📈 Optimized Route Order\")\n",
    "    for idx, name in enumerate(route_names):\n",
    "        st.write(f\"{idx+1}. {name}\")\n",
    "\n",
    "    # Draw Map\n",
    "    m = folium.Map(location=[df['latitude'].mean(), df['longitude'].mean()], zoom_start=12)\n",
    "    for i in route:\n",
    "        loc = df.iloc[i]\n",
    "        folium.Marker(\n",
    "            location=[loc['latitude'], loc['longitude']],\n",
    "            popup=loc['location_name'],\n",
    "            icon=folium.Icon(color=\"blue\", icon=\"info-sign\")\n",
    "        ).add_to(m)\n",
    "\n",
    "    for i in range(len(route) - 1):\n",
    "        loc1 = df.iloc[route[i]]\n",
    "        loc2 = df.iloc[route[i+1]]\n",
    "        folium.PolyLine(\n",
    "            locations=[[loc1['latitude'], loc1['longitude']],\n",
    "                       [loc2['latitude'], loc2['longitude']]],\n",
    "            color=\"green\", weight=3, opacity=0.8\n",
    "        ).add_to(m)\n",
    "\n",
    "    # Save & Show Map\n",
    "    m.save(\"mumbai_optimized_route.html\")\n",
    "    st.subheader(\"🗺️ Optimized Route Map:\")\n",
    "    st.components.v1.html(m._repr_html_(), height=500)\n",
    "\n",
    "    # Download link\n",
    "    with open(\"mumbai_optimized_route.html\", \"rb\") as f:\n",
    "        st.download_button(\"⬇️ Download Map as HTML\", data=f, file_name=\"mumbai_optimized_route.html\", mime=\"text/html\")\n"
   ]
  },
  {
   "cell_type": "code",
   "execution_count": null,
   "id": "59c65a54",
   "metadata": {},
   "outputs": [],
   "source": []
  }
 ],
 "metadata": {
  "kernelspec": {
   "display_name": "Python 3 (ipykernel)",
   "language": "python",
   "name": "python3"
  },
  "language_info": {
   "codemirror_mode": {
    "name": "ipython",
    "version": 3
   },
   "file_extension": ".py",
   "mimetype": "text/x-python",
   "name": "python",
   "nbconvert_exporter": "python",
   "pygments_lexer": "ipython3",
   "version": "3.13.4"
  }
 },
 "nbformat": 4,
 "nbformat_minor": 5
}
